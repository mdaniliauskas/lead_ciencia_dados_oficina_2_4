{
 "cells": [
  {
   "cell_type": "markdown",
   "source": [
    "# Micro 09: Conjuntos e suas utilizações &ndash; oficina\r\n",
    "\r\n",
    "Ao planejar um casamento, um casal monta sua lista de presentes e faz uma pesquisa para encontrar algumas lojas de departamentos que trabalhem com este serviço. O casal encontra 4 lojas favoráveis, mas cada uma oferece apenas alguns dos presentes que gostariam de ganhar. Como não dá para colocar a lista em todas as lojas ao mesmo tempo, algumas perguntas podem ajudar a decidir o que fazer, como: \r\n",
    "\r\n",
    "1. Quais produtos são oferecidos em ao menos uma loja? \r\n",
    "1. Quais produtos são oferecidos em todas as lojas? \r\n",
    "1. Quais produtos não são encontrados em nenhuma loja? \r\n",
    "1. Quais produtos são exclusivos de cada loja? \r\n",
    "1. Se for possível escolher duas lojas pra cobrir um número maior de presentes, qual é o maior número de presentes que é possível cobrir dessa forma? \r\n",
    "\r\n",
    "Faça um programa que calcule e imprima as respostas para estas perguntas. As 3 primeiras perguntas podem ser respondidas imprimindo conjuntos ou listas com os produtos correspondentes. A quarta pergunta pode ser respondida imprimindo uma lista de 4 coleções de produtos, ou imprimindo uma coleção por linha. A quinta pergunta pode ser respondida apenas com o número de presentes da melhor combinação de lojas, não precisa dizer qual é a combinação. \r\n",
    "\r\n",
    "Abaixo, você encontra duas células: a primeira contém valores exemplo para a lista de presentes e para os catálogos das lojas; a segunta a saída esperada do programa, dadas estas definições. Escreva seu programa em uma célula intermediária."
   ],
   "metadata": {
    "slideshow": {
     "slide_type": "skip"
    }
   }
  },
  {
   "cell_type": "code",
   "execution_count": 69,
   "source": [
    "presentes = {\r\n",
    "    'cadeira', 'cafeteira', 'caneca', 'escumadeira',\r\n",
    "    'espanador', 'espátula', 'estante', 'faqueiro',\r\n",
    "    'frigideira', 'funil', 'halter', 'liquidificador',\r\n",
    "    'notebook', 'panela', 'peneira', 'playstation',\r\n",
    "    'rádio', 'smartphone', 'sofá', 'tablet', 'teclado',\r\n",
    "    'televisão', 'vassoura', 'webcam', 'xbox',\r\n",
    "}\r\n",
    "\r\n",
    "loja1 = {\r\n",
    "    'cadeira', 'cafeteira', 'caneca', 'escumadeira', 'estante',\r\n",
    "    'frigideira', 'funil', 'liquidificador', 'notebook', 'panela',\r\n",
    "    'playstation', 'smartphone', 'teclado', 'televisão'}\r\n",
    "loja2 = {\r\n",
    "    'cafeteira', 'escumadeira', 'espanador', 'frigideira', 'funil',\r\n",
    "    'halter', 'peneira', 'playstation', 'sofá', 'tablet', 'televisão',\r\n",
    "    'vassoura', 'webcam', 'xbox'}\r\n",
    "loja3 = {\r\n",
    "    'caneca', 'escumadeira', 'espanador', 'espátula', 'estante',\r\n",
    "    'frigideira', 'halter', 'playstation', 'rádio', 'smartphone',\r\n",
    "    'sofá', 'teclado', 'televisão', 'vassoura', 'xbox'}\r\n",
    "loja4 = {\r\n",
    "    'caneca', 'escumadeira', 'espanador', 'espátula', 'estante',\r\n",
    "    'frigideira', 'halter', 'playstation', 'rádio', 'smartphone',\r\n",
    "    'sofá', 'teclado', 'televisão', 'vassoura', 'xbox'}"
   ],
   "outputs": [],
   "metadata": {}
  },
  {
   "cell_type": "code",
   "execution_count": 70,
   "source": [
    "#1. Quais produtos são oferecidos em ao menos uma loja?\r\n",
    "conj_lojas = loja1 | loja2 | loja3 | loja4\r\n",
    "\r\n",
    "prod_disponiveis = presentes & conj_lojas\r\n",
    "print(\"Presentes disponíveis em pelo menos uma loja:\", prod_disponiveis, \"\\n\")\r\n",
    "\r\n",
    "#2.Quais produtos são oferecidos em todas as lojas?\r\n",
    "prod_todas_lojas = presentes & loja1 & loja2 & loja3 & loja4\r\n",
    "print(\"Presentes disponíveis em todas as lojas\", prod_todas_lojas, \"\\n\")\r\n",
    "\r\n",
    "#3. Quais produtos não são encontrados em nenhuma loja?\r\n",
    "prod_faltantes = presentes - conj_lojas\r\n",
    "print(\"Presente(s) não encontrado(s) em nenhuma loja\", prod_faltantes, \"\\n\")\r\n",
    "\r\n",
    "#4. Quais produtos são exclusivos de cada loja?\r\n",
    "print(\"Produtos exclusivos da loja 1: \", loja1 - (loja2 | loja3 | loja4), \"\\n\")\r\n",
    "print(\"Produtos exclusivos da loja 2: \", loja2 - (loja1 | loja3 | loja4), \"\\n\")\r\n",
    "print(\"Produtos exclusivos da loja 3: \", loja3 - (loja1 | loja2 | loja4), \"\\n\")\r\n",
    "print(\"Produtos exclusivos da loja 1: \", loja4 - (loja1 | loja2 | loja3), \"\\n\")\r\n",
    "\r\n",
    "#5. Se for possível escolher duas lojas para cobrir o maior número de presentes, qual é a quantidade de presentes possíveis para cobrir dessa forma?\r\n",
    "\r\n",
    "#R. Loja 1 e Loja 2 por possuirem mais exclusivos. Loja 3 e 4 são iguais.\r\n",
    "print(\"A melhor combinação é da Loja 1 e Loja 2\", \"com\" , len(presentes & (loja1 | loja2)), \"presentes disponíveis.\")\r\n",
    "\r\n"
   ],
   "outputs": [
    {
     "output_type": "stream",
     "name": "stdout",
     "text": [
      "Presentes disponíveis em pelo menos uma loja: {'estante', 'cafeteira', 'sofá', 'escumadeira', 'espanador', 'vassoura', 'webcam', 'caneca', 'frigideira', 'panela', 'cadeira', 'funil', 'televisão', 'playstation', 'espátula', 'teclado', 'tablet', 'notebook', 'smartphone', 'halter', 'liquidificador', 'xbox', 'rádio', 'peneira'} \n",
      "\n",
      "24\n",
      "Presentes disponíveis em todas as lojas {'televisão', 'frigideira', 'playstation', 'escumadeira'} \n",
      "\n",
      "Presente(s) não encontrado(s) em nenhuma loja {'faqueiro'} \n",
      "\n",
      "Produtos exclusivos da loja 1:  {'cadeira', 'notebook', 'liquidificador', 'panela'} \n",
      "\n",
      "Produtos exclusivos da loja 2:  {'tablet', 'webcam', 'peneira'} \n",
      "\n",
      "Produtos exclusivos da loja 3:  set() \n",
      "\n",
      "Produtos exclusivos da loja 1:  set() \n",
      "\n",
      "A melhor combinação é da Loja 1 e Loja 2 com 22 presentes disponíveis.\n"
     ]
    }
   ],
   "metadata": {}
  },
  {
   "cell_type": "raw",
   "source": [
    "1. Produtos oferecidos em alguma loja: {'teclado', 'rádio', 'xbox', 'espanador', 'playstation', 'peneira', 'tablet', 'cafeteira', 'caneca', 'estante', 'escumadeira', 'smartphone', 'vassoura', 'espátula', 'liquidificador', 'cadeira', 'webcam', 'notebook', 'sofá', 'panela', 'funil', 'televisão', 'frigideira', 'halter'}\r\n",
    "2. Produtos em todas as lojas: {'escumadeira', 'frigideira', 'playstation', 'televisão'}\r\n",
    "3. Produtos não encontrados: {'faqueiro'}\r\n",
    "4. Produtos exclusivos: [{'cadeira', 'liquidificador', 'notebook', 'panela'},\r\n",
    "                         {'peneira', 'tablet', 'webcam'},\r\n",
    "                         set(),\r\n",
    "                         set()]\r\n",
    "5. Melhore dupla tem 22 itens"
   ],
   "metadata": {
    "slideshow": {
     "slide_type": "fragment"
    }
   }
  }
 ],
 "metadata": {
  "celltoolbar": "Slideshow",
  "kernelspec": {
   "name": "python3",
   "display_name": "Python 3.8.11 64-bit ('base': conda)"
  },
  "language_info": {
   "codemirror_mode": {
    "name": "ipython",
    "version": 3
   },
   "file_extension": ".py",
   "mimetype": "text/x-python",
   "name": "python",
   "nbconvert_exporter": "python",
   "pygments_lexer": "ipython3",
   "version": "3.8.11"
  },
  "toc": {
   "base_numbering": 1,
   "nav_menu": {},
   "number_sections": true,
   "sideBar": true,
   "skip_h1_title": true,
   "title_cell": "Índice",
   "title_sidebar": "Contents",
   "toc_cell": false,
   "toc_position": {
    "height": "calc(100% - 180px)",
    "left": "10px",
    "top": "150px",
    "width": "337px"
   },
   "toc_section_display": true,
   "toc_window_display": true
  },
  "interpreter": {
   "hash": "d98b4cf575a891b97ea43402398b6b9082f9e1cf0f07109cc211caf32ce43040"
  }
 },
 "nbformat": 4,
 "nbformat_minor": 4
}