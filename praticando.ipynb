{
 "cells": [
  {
   "cell_type": "code",
   "execution_count": 15,
   "source": [
    "#Aula 2.3\r\n",
    "## Conjuntos e suas utilizações"
   ],
   "outputs": [],
   "metadata": {}
  },
  {
   "cell_type": "code",
   "execution_count": 16,
   "source": [
    "animais = {'onça', 'jaguatirica', 'lobo guará'}\r\n",
    "\r\n",
    "animais.add('ararajuba')\r\n",
    "\r\n",
    "animais.discard('tatu')\r\n",
    "\r\n",
    "animais.update({'onça', 'macaco prego', 'camaleão'})\r\n",
    "\r\n",
    "animais.remove('onça')\r\n",
    "\r\n",
    "print(sorted(animais))"
   ],
   "outputs": [
    {
     "output_type": "stream",
     "name": "stdout",
     "text": [
      "['ararajuba', 'camaleão', 'jaguatirica', 'lobo guará', 'macaco prego']\n"
     ]
    }
   ],
   "metadata": {}
  },
  {
   "cell_type": "code",
   "execution_count": 17,
   "source": [
    "conjunto_animais = {'papagaio', 'onça', 'lobo', 'gavião', 'baleia'}\r\n",
    "for animal in conjunto_animais:  \r\n",
    "    print(animal)"
   ],
   "outputs": [
    {
     "output_type": "stream",
     "name": "stdout",
     "text": [
      "onça\n",
      "lobo\n",
      "papagaio\n",
      "baleia\n",
      "gavião\n"
     ]
    }
   ],
   "metadata": {}
  }
 ],
 "metadata": {
  "orig_nbformat": 4,
  "language_info": {
   "name": "python",
   "version": "3.8.11",
   "mimetype": "text/x-python",
   "codemirror_mode": {
    "name": "ipython",
    "version": 3
   },
   "pygments_lexer": "ipython3",
   "nbconvert_exporter": "python",
   "file_extension": ".py"
  },
  "kernelspec": {
   "name": "python3",
   "display_name": "Python 3.8.11 64-bit ('base': conda)"
  },
  "interpreter": {
   "hash": "d98b4cf575a891b97ea43402398b6b9082f9e1cf0f07109cc211caf32ce43040"
  }
 },
 "nbformat": 4,
 "nbformat_minor": 2
}